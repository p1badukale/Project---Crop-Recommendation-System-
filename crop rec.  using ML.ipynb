{
 "cells": [
  {
   "cell_type": "markdown",
   "id": "dd4a6feb",
   "metadata": {
    "papermill": {
     "duration": 0.009045,
     "end_time": "2023-09-30T14:36:37.736969",
     "exception": false,
     "start_time": "2023-09-30T14:36:37.727924",
     "status": "completed"
    },
    "tags": []
   },
   "source": [
    "# Crop Recommendation System using M L "
   ]
  },
  {
   "cell_type": "markdown",
   "id": "76697fde",
   "metadata": {
    "papermill": {
     "duration": 0.008147,
     "end_time": "2023-09-30T14:36:37.753813",
     "exception": false,
     "start_time": "2023-09-30T14:36:37.745666",
     "status": "completed"
    },
    "tags": []
   },
   "source": [
    "### Setting up Environment"
   ]
  },
  {
   "cell_type": "code",
   "execution_count": 1,
   "id": "54497a06",
   "metadata": {
    "_cell_guid": "b1076dfc-b9ad-4769-8c92-a6c4dae69d19",
    "_uuid": "8f2839f25d086af736a60e9eeb907d3b93b6e0e5",
    "execution": {
     "iopub.execute_input": "2023-09-30T14:36:37.773049Z",
     "iopub.status.busy": "2023-09-30T14:36:37.772634Z",
     "iopub.status.idle": "2023-09-30T14:36:38.169646Z",
     "shell.execute_reply": "2023-09-30T14:36:38.168333Z"
    },
    "papermill": {
     "duration": 0.409656,
     "end_time": "2023-09-30T14:36:38.171980",
     "exception": false,
     "start_time": "2023-09-30T14:36:37.762324",
     "status": "completed"
    },
    "tags": []
   },
   "outputs": [],
   "source": [
    "import os"
   ]
  },
  {
   "cell_type": "markdown",
   "id": "12b9d8b9",
   "metadata": {
    "papermill": {
     "duration": 0.009298,
     "end_time": "2023-09-30T14:36:38.190679",
     "exception": false,
     "start_time": "2023-09-30T14:36:38.181381",
     "status": "completed"
    },
    "tags": []
   },
   "source": [
    "# Importing Libraries"
   ]
  },
  {
   "cell_type": "code",
   "execution_count": 2,
   "id": "4b88563e",
   "metadata": {
    "execution": {
     "iopub.execute_input": "2023-09-30T14:36:38.210490Z",
     "iopub.status.busy": "2023-09-30T14:36:38.209799Z",
     "iopub.status.idle": "2023-09-30T14:36:39.873317Z",
     "shell.execute_reply": "2023-09-30T14:36:39.872037Z"
    },
    "papermill": {
     "duration": 1.676877,
     "end_time": "2023-09-30T14:36:39.876400",
     "exception": false,
     "start_time": "2023-09-30T14:36:38.199523",
     "status": "completed"
    },
    "tags": []
   },
   "outputs": [],
   "source": [
    "import numpy as np\n",
    "import pandas as pd\n",
    "import matplotlib.pyplot as plt\n",
    "import seaborn as sns\n",
    "from ipywidgets import interact\n"
   ]
  },
  {
   "cell_type": "markdown",
   "id": "d9e4c91b",
   "metadata": {
    "papermill": {
     "duration": 0.008661,
     "end_time": "2023-09-30T14:36:39.894412",
     "exception": false,
     "start_time": "2023-09-30T14:36:39.885751",
     "status": "completed"
    },
    "tags": []
   },
   "source": [
    "# Loading Dataset file"
   ]
  },
  {
   "cell_type": "code",
   "execution_count": 3,
   "id": "14708a36",
   "metadata": {
    "execution": {
     "iopub.execute_input": "2023-09-30T14:36:39.913469Z",
     "iopub.status.busy": "2023-09-30T14:36:39.913106Z",
     "iopub.status.idle": "2023-09-30T14:36:39.934429Z",
     "shell.execute_reply": "2023-09-30T14:36:39.933298Z"
    },
    "papermill": {
     "duration": 0.034037,
     "end_time": "2023-09-30T14:36:39.936994",
     "exception": false,
     "start_time": "2023-09-30T14:36:39.902957",
     "status": "completed"
    },
    "tags": []
   },
   "outputs": [],
   "source": [
    "data=pd.read_csv(\"Crop_recommendation.csv\")"
   ]
  },
  {
   "cell_type": "code",
   "execution_count": 4,
   "id": "75825f26",
   "metadata": {
    "execution": {
     "iopub.execute_input": "2023-09-30T14:36:39.973335Z",
     "iopub.status.busy": "2023-09-30T14:36:39.972436Z",
     "iopub.status.idle": "2023-09-30T14:36:39.978699Z",
     "shell.execute_reply": "2023-09-30T14:36:39.977443Z"
    },
    "papermill": {
     "duration": 0.018265,
     "end_time": "2023-09-30T14:36:39.980962",
     "exception": false,
     "start_time": "2023-09-30T14:36:39.962697",
     "status": "completed"
    },
    "tags": []
   },
   "outputs": [
    {
     "name": "stdout",
     "output_type": "stream",
     "text": [
      "Shape of the dataset: (2200, 8)\n"
     ]
    }
   ],
   "source": [
    "print(\"Shape of the dataset:\", data.shape)"
   ]
  },
  {
   "cell_type": "code",
   "execution_count": 5,
   "id": "b03700e6",
   "metadata": {
    "execution": {
     "iopub.execute_input": "2023-09-30T14:36:40.019767Z",
     "iopub.status.busy": "2023-09-30T14:36:40.019332Z",
     "iopub.status.idle": "2023-09-30T14:36:40.046876Z",
     "shell.execute_reply": "2023-09-30T14:36:40.045812Z"
    },
    "papermill": {
     "duration": 0.040184,
     "end_time": "2023-09-30T14:36:40.049019",
     "exception": false,
     "start_time": "2023-09-30T14:36:40.008835",
     "status": "completed"
    },
    "tags": []
   },
   "outputs": [
    {
     "data": {
      "text/html": [
       "<div>\n",
       "<style scoped>\n",
       "    .dataframe tbody tr th:only-of-type {\n",
       "        vertical-align: middle;\n",
       "    }\n",
       "\n",
       "    .dataframe tbody tr th {\n",
       "        vertical-align: top;\n",
       "    }\n",
       "\n",
       "    .dataframe thead th {\n",
       "        text-align: right;\n",
       "    }\n",
       "</style>\n",
       "<table border=\"1\" class=\"dataframe\">\n",
       "  <thead>\n",
       "    <tr style=\"text-align: right;\">\n",
       "      <th></th>\n",
       "      <th>N</th>\n",
       "      <th>P</th>\n",
       "      <th>K</th>\n",
       "      <th>temperature</th>\n",
       "      <th>humidity</th>\n",
       "      <th>ph</th>\n",
       "      <th>rainfall</th>\n",
       "      <th>label</th>\n",
       "    </tr>\n",
       "  </thead>\n",
       "  <tbody>\n",
       "    <tr>\n",
       "      <th>0</th>\n",
       "      <td>90</td>\n",
       "      <td>42</td>\n",
       "      <td>43</td>\n",
       "      <td>20.879744</td>\n",
       "      <td>82.002744</td>\n",
       "      <td>6.502985</td>\n",
       "      <td>202.935536</td>\n",
       "      <td>rice</td>\n",
       "    </tr>\n",
       "    <tr>\n",
       "      <th>1</th>\n",
       "      <td>85</td>\n",
       "      <td>58</td>\n",
       "      <td>41</td>\n",
       "      <td>21.770462</td>\n",
       "      <td>80.319644</td>\n",
       "      <td>7.038096</td>\n",
       "      <td>226.655537</td>\n",
       "      <td>rice</td>\n",
       "    </tr>\n",
       "    <tr>\n",
       "      <th>2</th>\n",
       "      <td>60</td>\n",
       "      <td>55</td>\n",
       "      <td>44</td>\n",
       "      <td>23.004459</td>\n",
       "      <td>82.320763</td>\n",
       "      <td>7.840207</td>\n",
       "      <td>263.964248</td>\n",
       "      <td>rice</td>\n",
       "    </tr>\n",
       "    <tr>\n",
       "      <th>3</th>\n",
       "      <td>74</td>\n",
       "      <td>35</td>\n",
       "      <td>40</td>\n",
       "      <td>26.491096</td>\n",
       "      <td>80.158363</td>\n",
       "      <td>6.980401</td>\n",
       "      <td>242.864034</td>\n",
       "      <td>rice</td>\n",
       "    </tr>\n",
       "    <tr>\n",
       "      <th>4</th>\n",
       "      <td>78</td>\n",
       "      <td>42</td>\n",
       "      <td>42</td>\n",
       "      <td>20.130175</td>\n",
       "      <td>81.604873</td>\n",
       "      <td>7.628473</td>\n",
       "      <td>262.717340</td>\n",
       "      <td>rice</td>\n",
       "    </tr>\n",
       "    <tr>\n",
       "      <th>5</th>\n",
       "      <td>69</td>\n",
       "      <td>37</td>\n",
       "      <td>42</td>\n",
       "      <td>23.058049</td>\n",
       "      <td>83.370118</td>\n",
       "      <td>7.073454</td>\n",
       "      <td>251.055000</td>\n",
       "      <td>rice</td>\n",
       "    </tr>\n",
       "    <tr>\n",
       "      <th>6</th>\n",
       "      <td>69</td>\n",
       "      <td>55</td>\n",
       "      <td>38</td>\n",
       "      <td>22.708838</td>\n",
       "      <td>82.639414</td>\n",
       "      <td>5.700806</td>\n",
       "      <td>271.324860</td>\n",
       "      <td>rice</td>\n",
       "    </tr>\n",
       "    <tr>\n",
       "      <th>7</th>\n",
       "      <td>94</td>\n",
       "      <td>53</td>\n",
       "      <td>40</td>\n",
       "      <td>20.277744</td>\n",
       "      <td>82.894086</td>\n",
       "      <td>5.718627</td>\n",
       "      <td>241.974195</td>\n",
       "      <td>rice</td>\n",
       "    </tr>\n",
       "    <tr>\n",
       "      <th>8</th>\n",
       "      <td>89</td>\n",
       "      <td>54</td>\n",
       "      <td>38</td>\n",
       "      <td>24.515881</td>\n",
       "      <td>83.535216</td>\n",
       "      <td>6.685346</td>\n",
       "      <td>230.446236</td>\n",
       "      <td>rice</td>\n",
       "    </tr>\n",
       "    <tr>\n",
       "      <th>9</th>\n",
       "      <td>68</td>\n",
       "      <td>58</td>\n",
       "      <td>38</td>\n",
       "      <td>23.223974</td>\n",
       "      <td>83.033227</td>\n",
       "      <td>6.336254</td>\n",
       "      <td>221.209196</td>\n",
       "      <td>rice</td>\n",
       "    </tr>\n",
       "  </tbody>\n",
       "</table>\n",
       "</div>"
      ],
      "text/plain": [
       "    N   P   K  temperature   humidity        ph    rainfall label\n",
       "0  90  42  43    20.879744  82.002744  6.502985  202.935536  rice\n",
       "1  85  58  41    21.770462  80.319644  7.038096  226.655537  rice\n",
       "2  60  55  44    23.004459  82.320763  7.840207  263.964248  rice\n",
       "3  74  35  40    26.491096  80.158363  6.980401  242.864034  rice\n",
       "4  78  42  42    20.130175  81.604873  7.628473  262.717340  rice\n",
       "5  69  37  42    23.058049  83.370118  7.073454  251.055000  rice\n",
       "6  69  55  38    22.708838  82.639414  5.700806  271.324860  rice\n",
       "7  94  53  40    20.277744  82.894086  5.718627  241.974195  rice\n",
       "8  89  54  38    24.515881  83.535216  6.685346  230.446236  rice\n",
       "9  68  58  38    23.223974  83.033227  6.336254  221.209196  rice"
      ]
     },
     "execution_count": 5,
     "metadata": {},
     "output_type": "execute_result"
    }
   ],
   "source": [
    "data.head(10)"
   ]
  },
  {
   "cell_type": "code",
   "execution_count": 6,
   "id": "de2bd277",
   "metadata": {
    "execution": {
     "iopub.execute_input": "2023-09-30T14:36:40.150056Z",
     "iopub.status.busy": "2023-09-30T14:36:40.149434Z",
     "iopub.status.idle": "2023-09-30T14:36:40.160079Z",
     "shell.execute_reply": "2023-09-30T14:36:40.159306Z"
    },
    "papermill": {
     "duration": 0.023336,
     "end_time": "2023-09-30T14:36:40.162261",
     "exception": false,
     "start_time": "2023-09-30T14:36:40.138925",
     "status": "completed"
    },
    "tags": []
   },
   "outputs": [
    {
     "data": {
      "text/plain": [
       "N              0\n",
       "P              0\n",
       "K              0\n",
       "temperature    0\n",
       "humidity       0\n",
       "ph             0\n",
       "rainfall       0\n",
       "label          0\n",
       "dtype: int64"
      ]
     },
     "execution_count": 6,
     "metadata": {},
     "output_type": "execute_result"
    }
   ],
   "source": [
    "data.isnull().sum()"
   ]
  },
  {
   "cell_type": "code",
   "execution_count": 7,
   "id": "5d9d401c",
   "metadata": {
    "execution": {
     "iopub.execute_input": "2023-09-30T14:36:40.201425Z",
     "iopub.status.busy": "2023-09-30T14:36:40.201039Z",
     "iopub.status.idle": "2023-09-30T14:36:40.214244Z",
     "shell.execute_reply": "2023-09-30T14:36:40.213219Z"
    },
    "papermill": {
     "duration": 0.02659,
     "end_time": "2023-09-30T14:36:40.216379",
     "exception": false,
     "start_time": "2023-09-30T14:36:40.189789",
     "status": "completed"
    },
    "tags": []
   },
   "outputs": [
    {
     "data": {
      "text/plain": [
       "rice           100\n",
       "maize          100\n",
       "jute           100\n",
       "cotton         100\n",
       "coconut        100\n",
       "papaya         100\n",
       "orange         100\n",
       "apple          100\n",
       "muskmelon      100\n",
       "watermelon     100\n",
       "grapes         100\n",
       "mango          100\n",
       "banana         100\n",
       "pomegranate    100\n",
       "lentil         100\n",
       "blackgram      100\n",
       "mungbean       100\n",
       "mothbeans      100\n",
       "pigeonpeas     100\n",
       "kidneybeans    100\n",
       "chickpea       100\n",
       "coffee         100\n",
       "Name: label, dtype: int64"
      ]
     },
     "execution_count": 7,
     "metadata": {},
     "output_type": "execute_result"
    }
   ],
   "source": [
    "data[\"label\"].value_counts()"
   ]
  },
  {
   "cell_type": "markdown",
   "id": "67296ff8",
   "metadata": {
    "papermill": {
     "duration": 0.00936,
     "end_time": "2023-09-30T14:36:40.235052",
     "exception": false,
     "start_time": "2023-09-30T14:36:40.225692",
     "status": "completed"
    },
    "tags": []
   },
   "source": [
    "# Average :"
   ]
  },
  {
   "cell_type": "code",
   "execution_count": 8,
   "id": "9af45405",
   "metadata": {
    "execution": {
     "iopub.execute_input": "2023-09-30T14:36:40.255890Z",
     "iopub.status.busy": "2023-09-30T14:36:40.255178Z",
     "iopub.status.idle": "2023-09-30T14:36:40.263494Z",
     "shell.execute_reply": "2023-09-30T14:36:40.262310Z"
    },
    "papermill": {
     "duration": 0.021196,
     "end_time": "2023-09-30T14:36:40.265748",
     "exception": false,
     "start_time": "2023-09-30T14:36:40.244552",
     "status": "completed"
    },
    "tags": []
   },
   "outputs": [
    {
     "name": "stdout",
     "output_type": "stream",
     "text": [
      "Average ratio of Nitrogen in Soil: 50.55\n",
      "Average ratio of Phosphorus in Soil: 53.36\n",
      "Average ratio of Potassium in Soil: 48.15\n",
      "Average ratio of Temperature in celcius: 25.62\n",
      "Average relative humdity in %: 71.48\n",
      "Average pH value of the Soil: 6.47\n",
      "Average rainfall in mm: 103.46\n"
     ]
    }
   ],
   "source": [
    "print(\"Average ratio of Nitrogen in Soil:{0: .2f}\".format(data[\"N\"].mean()))\n",
    "#ratio_of_nitrogen = \"Ratio of Nitrogen in Soil: {:.2f}\".format(data[\"N\"].mean())\n",
    "print(\"Average ratio of Phosphorus in Soil:{0: .2f}\".format(data[\"P\"].mean()))\n",
    "print(\"Average ratio of Potassium in Soil:{0: .2f}\".format(data[\"K\"].mean()))\n",
    "print(\"Average ratio of Temperature in celcius:{0: .2f}\".format(data[\"temperature\"].mean()))\n",
    "print(\"Average relative humdity in %:{0: .2f}\".format(data[\"humidity\"].mean()))\n",
    "print(\"Average pH value of the Soil:{0: .2f}\".format(data[\"ph\"].mean()))\n",
    "print(\"Average rainfall in mm:{0: .2f}\".format(data[\"rainfall\"].mean()))\n",
    "#print(ratio_of_nitrogen)\n",
    " # of Nitrogen in Soil:{0: ,2f}\".format(data[\"N\"].mean()))"
   ]
  },
  {
   "cell_type": "markdown",
   "id": "5c186bbd",
   "metadata": {
    "papermill": {
     "duration": 0.008985,
     "end_time": "2023-09-30T14:36:40.284359",
     "exception": false,
     "start_time": "2023-09-30T14:36:40.275374",
     "status": "completed"
    },
    "tags": []
   },
   "source": [
    "# Summary Statitistics  :"
   ]
  },
  {
   "cell_type": "code",
   "execution_count": 9,
   "id": "7a24ca45",
   "metadata": {
    "execution": {
     "iopub.execute_input": "2023-09-30T14:36:40.306843Z",
     "iopub.status.busy": "2023-09-30T14:36:40.306156Z",
     "iopub.status.idle": "2023-09-30T14:36:40.343179Z",
     "shell.execute_reply": "2023-09-30T14:36:40.341952Z"
    },
    "papermill": {
     "duration": 0.050457,
     "end_time": "2023-09-30T14:36:40.345372",
     "exception": false,
     "start_time": "2023-09-30T14:36:40.294915",
     "status": "completed"
    },
    "tags": []
   },
   "outputs": [
    {
     "data": {
      "application/vnd.jupyter.widget-view+json": {
       "model_id": "9c94e848b28845cd94dc26e35a97426b",
       "version_major": 2,
       "version_minor": 0
      },
      "text/plain": [
       "interactive(children=(Dropdown(description='crops', options=('rice', 'maize', 'jute', 'cotton', 'coconut', 'pa…"
      ]
     },
     "metadata": {},
     "output_type": "display_data"
    }
   ],
   "source": [
    "# Let's check the Summary Statistics for each of the Crops\n",
    "\n",
    "@interact\n",
    "def summary(crops = list(data['label'].value_counts().index)):\n",
    "    x = data[data['label'] == crops]\n",
    "    print(\"---------------------------------------------\")\n",
    "    print(\"Statistics for Nitrogen\")\n",
    "    print(\"Minimum Nitrogen required:\", x['N'].min())\n",
    "    print(\"Average Nitrogen required:\", x['N'].mean())\n",
    "    print(\"Maximum Nitrogen required:\", x['N'].max())\n",
    "    print(\"---------------------------------------------\")\n",
    "    print(\"Statistics for Phosphorus\")\n",
    "    print(\"Minimum Phosphorus required:\", x['P'].min())\n",
    "    print(\"Average Phosphorus required:\", x['P'].mean())\n",
    "    print(\"Maximum Phosphorus required:\", x['P'].max())\n",
    "    print(\"---------------------------------------------\")\n",
    "    print(\"Statistics for Potassium\")\n",
    "    print(\"Minimum Potassium required:\", x['K'].min())\n",
    "    print(\"Average Potassium required:\", x['K'].mean())\n",
    "    print(\"Maximum Potassium required:\", x['K'].max())\n",
    "    print(\"---------------------------------------------\")\n",
    "    print(\"Statistics for Temperature\")\n",
    "    print(\"Minimum Temperature required: {:.2f}\".format(x['temperature'].min()))\n",
    "    print(\"Average Temperature required: {:.2f}\".format(x['temperature'].mean()))\n",
    "    print(\"Maximum Temperature required: {:.2f}\".format(x['temperature'].max()))\n",
    "    print(\"---------------------------------------------\")\n",
    "    print(\"Statistics for Humidity\")\n",
    "    print(\"Minimum Humidity required: {:.2f}\".format(x['humidity'].min()))\n",
    "    print(\"Average Humidity required: {:.2f}\".format(x['humidity'].mean()))\n",
    "    print(\"Maximum Humidity required: {:.2f}\".format(x['humidity'].max()))\n",
    "    print(\"---------------------------------------------\")\n",
    "    print(\"Statistics for pH\")\n",
    "    print(\"Minimum pH required: {:.2f}\".format(x['ph'].min()))\n",
    "    print(\"Average pH required: {:.2f}\".format(x['ph'].mean()))\n",
    "    print(\"Maximum pH required: {:.2f}\".format(x['ph'].max()))\n",
    "    print(\"---------------------------------------------\")\n",
    "    print(\"Statistics for Rainfall\")\n",
    "    print(\"Minimum Rainfall required: {:.2f}\".format(x['rainfall'].min()))\n",
    "    print(\"Average Rainfall required: {:.2f}\".format(x['rainfall'].mean()))\n",
    "    print(\"Maximum Rainfall required: {:.2f}\".format(x['rainfall'].max()))\n"
   ]
  },
  {
   "cell_type": "markdown",
   "id": "af855b66",
   "metadata": {
    "papermill": {
     "duration": 0.009305,
     "end_time": "2023-09-30T14:36:40.364491",
     "exception": false,
     "start_time": "2023-09-30T14:36:40.355186",
     "status": "completed"
    },
    "tags": []
   },
   "source": [
    "# COMPARISION :\n"
   ]
  },
  {
   "cell_type": "code",
   "execution_count": 10,
   "id": "9403bb99",
   "metadata": {
    "execution": {
     "iopub.execute_input": "2023-09-30T14:36:40.385859Z",
     "iopub.status.busy": "2023-09-30T14:36:40.385167Z",
     "iopub.status.idle": "2023-09-30T14:36:40.428049Z",
     "shell.execute_reply": "2023-09-30T14:36:40.427302Z"
    },
    "papermill": {
     "duration": 0.055973,
     "end_time": "2023-09-30T14:36:40.429988",
     "exception": false,
     "start_time": "2023-09-30T14:36:40.374015",
     "status": "completed"
    },
    "tags": []
   },
   "outputs": [
    {
     "data": {
      "application/vnd.jupyter.widget-view+json": {
       "model_id": "c7c81b9581fe4fc0afc94ed66b1c54ed",
       "version_major": 2,
       "version_minor": 0
      },
      "text/plain": [
       "interactive(children=(Dropdown(description='conditions', options=('N', 'P', 'K', 'temperature', 'ph', 'humidit…"
      ]
     },
     "metadata": {},
     "output_type": "display_data"
    }
   ],
   "source": [
    "# Lets compare the Average Requirement for each crop with average conditions\n",
    "\n",
    "@interact\n",
    "def compare(conditions = ['N','P','K','temperature','ph','humidity','rainfall']):\n",
    "    print(\"Average Value for\", conditions, \"is {0:.2f}\".format(data[conditions].mean()))\n",
    "    print(\"----------------------------------------------\")\n",
    "    print(\"Rice : {0:.2f}\".format(data[(data['label'] == 'rice')][conditions].mean()))\n",
    "    print(\"Black Grams : {0:.2f}\".format(data[(data['label'] == 'blackgrams')][conditions].mean()))\n",
    "    print(\"Banana : {0:.2f}\".format(data[(data['label'] == 'banana')][conditions].mean()))\n",
    "    print(\"Jute : {0:.2f}\".format(data[(data['label'] == 'jute')][conditions].mean()))\n",
    "    print(\"Coconut : {0:.2f}\".format(data[(data['label'] == 'coconut')][conditions].mean()))\n",
    "    print(\"Apple : {0:.2f}\".format(data[(data['label'] == 'apple')][conditions].mean()))\n",
    "    print(\"Papaya : {0:.2f}\".format(data[(data['label'] == 'papaya')][conditions].mean()))\n",
    "    print(\"Muskmelon : {0:.2f}\".format(data[(data['label'] == 'muskmelon')][conditions].mean()))\n",
    "    print(\"Grapes : {0:.2f}\".format(data[(data['label'] == 'grapes')][conditions].mean()))\n",
    "    print(\"Watermelon : {0:.2f}\".format(data[(data['label'] == 'watermelon')][conditions].mean()))\n",
    "    print(\"Kidney Beans : {0:.2f}\".format(data[(data['label'] == 'kidney beans')][conditions].mean()))\n",
    "    print(\"Mung Beans : {0:.2f}\".format(data[(data['label'] == 'mung beans')][conditions].mean()))\n",
    "    print(\"Oranges : {0:.2f}\".format(data[(data['label'] == 'oranges')][conditions].mean()))\n",
    "    print(\"Chick Peas : {0:.2f}\".format(data[(data['label'] == 'chick peas')][conditions].mean()))\n",
    "    print(\"Lentils : {0:.2f}\".format(data[(data['label'] == 'lentils')][conditions].mean()))\n",
    "    print(\"Cotton : {0:.2f}\".format(data[(data['label'] == 'cotton')][conditions].mean()))\n",
    "    print(\"Maize : {0:.2f}\".format(data[(data['label'] == 'maize')][conditions].mean()))\n",
    "    print(\"Moth Beans : {0:.2f}\".format(data[(data['label'] == 'moth beans')][conditions].mean()))\n",
    "    print(\"Pigeon Peas : {0:.2f}\".format(data[(data['label'] == 'pigeon peas')][conditions].mean()))\n",
    "    print(\"Mango : {0:.2f}\".format(data[(data['label'] == 'mango')][conditions].mean()))\n",
    "    print(\"Pomegranate : {0:.2f}\".format(data[(data['label'] == 'pomegranate')][conditions].mean()))\n",
    "    print(\"Coffee : {0:.2f}\".format(data[(data['label'] == 'coffee')][conditions].mean()))\n",
    "    "
   ]
  },
  {
   "cell_type": "markdown",
   "id": "dabba051",
   "metadata": {
    "papermill": {
     "duration": 0.010031,
     "end_time": "2023-09-30T14:36:40.450565",
     "exception": false,
     "start_time": "2023-09-30T14:36:40.440534",
     "status": "completed"
    },
    "tags": []
   },
   "source": [
    "#  CLASSIFICATION ACC.  TO REQUIREMENT :"
   ]
  },
  {
   "cell_type": "code",
   "execution_count": 11,
   "id": "a5b00230",
   "metadata": {
    "execution": {
     "iopub.execute_input": "2023-09-30T14:36:40.472027Z",
     "iopub.status.busy": "2023-09-30T14:36:40.471390Z",
     "iopub.status.idle": "2023-09-30T14:36:40.496619Z",
     "shell.execute_reply": "2023-09-30T14:36:40.495315Z"
    },
    "papermill": {
     "duration": 0.039431,
     "end_time": "2023-09-30T14:36:40.499815",
     "exception": false,
     "start_time": "2023-09-30T14:36:40.460384",
     "status": "completed"
    },
    "tags": []
   },
   "outputs": [
    {
     "data": {
      "application/vnd.jupyter.widget-view+json": {
       "model_id": "0557db66971845d9b2eb932b537872cf",
       "version_major": 2,
       "version_minor": 0
      },
      "text/plain": [
       "interactive(children=(Dropdown(description='conditions', options=('N', 'P', 'K', 'temperature', 'ph', 'humidit…"
      ]
     },
     "metadata": {},
     "output_type": "display_data"
    }
   ],
   "source": [
    "# Lets make this function more Intuitive\n",
    "\n",
    "@interact\n",
    "def compare(conditions = ['N','P','K','temperature','ph','humidity','rainfall']):\n",
    "    print(\"Crops which require greater than average\", conditions, '\\n')\n",
    "    print(data[data[conditions] > data[conditions].mean()]['label'].unique())\n",
    "    print(\"-------------------------------------\")\n",
    "    print(\"Crops which require less than average\", conditions,'\\n')\n",
    "    print(data[data[conditions] <=data[conditions].mean()]['label'].unique())"
   ]
  },
  {
   "cell_type": "markdown",
   "id": "bac4e212",
   "metadata": {
    "papermill": {
     "duration": 0.009591,
     "end_time": "2023-09-30T14:36:40.520071",
     "exception": false,
     "start_time": "2023-09-30T14:36:40.510480",
     "status": "completed"
    },
    "tags": []
   },
   "source": [
    "# Data Visualization"
   ]
  },
  {
   "cell_type": "code",
   "execution_count": 43,
   "id": "cbca47e6",
   "metadata": {
    "execution": {
     "iopub.execute_input": "2023-09-30T14:36:40.543022Z",
     "iopub.status.busy": "2023-09-30T14:36:40.542524Z",
     "iopub.status.idle": "2023-09-30T14:36:42.308032Z",
     "shell.execute_reply": "2023-09-30T14:36:42.307106Z"
    },
    "papermill": {
     "duration": 1.779248,
     "end_time": "2023-09-30T14:36:42.310052",
     "exception": false,
     "start_time": "2023-09-30T14:36:40.530804",
     "status": "completed"
    },
    "tags": []
   },
   "outputs": [
    {
     "data": {
      "image/png": "[encoded data removed]",
      "text/plain": [
       "<Figure size 1000x1000 with 7 Axes>"
      ]
     },
     "metadata": {},
     "output_type": "display_data"
    }
   ],
   "source": [
    "plt.subplot(2, 4, 1)\n",
    "sns.histplot(data['N'], color = 'lightgrey')\n",
    "plt.xlabel('Ratio of Nitrogen', fontsize = 12)\n",
    "plt.grid()\n",
    "\n",
    "plt.subplot(2, 4, 2)\n",
    "sns.histplot(data['P'], color = 'lightblue')\n",
    "plt.xlabel('Ratio of Phosphorous', fontsize = 12)\n",
    "plt.grid()\n",
    "\n",
    "plt.subplot(2, 4, 3)\n",
    "sns.histplot(data['K'], color = 'darkblue')\n",
    "plt.xlabel('Ratio of Potassium', fontsize = 12)\n",
    "plt.grid()\n",
    "\n",
    "plt.subplot(2, 4, 4)\n",
    "sns.histplot(data['temperature'], color = 'black')\n",
    "plt.xlabel('Temperature', fontsize = 12)\n",
    "plt.grid()\n",
    "\n",
    "plt.subplot(2, 4, 5)\n",
    "sns.histplot(data['rainfall'], color = 'red')\n",
    "plt.xlabel('Rainfal', fontsize = 12)\n",
    "plt.grid()\n",
    "\n",
    "plt.subplot(2, 4, 6)\n",
    "sns.histplot(data['humidity'], color = 'lightgreen')\n",
    "plt.xlabel('Humidity', fontsize = 12)\n",
    "plt.grid()\n",
    "\n",
    "plt.subplot(2, 4, 7)\n",
    "sns.histplot(data['ph'], color = 'darkgreen')\n",
    "plt.xlabel('pH Level', fontsize = 12)\n",
    "plt.grid()\n",
    "\n",
    "plt.suptitle('Distribution for Agricultural Conditions', fontsize = 20)\n",
    "plt.show()\n",
    "\n"
   ]
  },
  {
   "cell_type": "markdown",
   "id": "54908c93",
   "metadata": {
    "papermill": {
     "duration": 0.011077,
     "end_time": "2023-09-30T14:36:42.333117",
     "exception": false,
     "start_time": "2023-09-30T14:36:42.322040",
     "status": "completed"
    },
    "tags": []
   },
   "source": [
    "# Distributions for Agricultural Conditions"
   ]
  },
  {
   "cell_type": "code",
   "execution_count": 45,
   "id": "d81529c5",
   "metadata": {
    "execution": {
     "iopub.execute_input": "2023-09-30T14:36:42.358874Z",
     "iopub.status.busy": "2023-09-30T14:36:42.357900Z",
     "iopub.status.idle": "2023-09-30T14:36:44.514280Z",
     "shell.execute_reply": "2023-09-30T14:36:44.512783Z"
    },
    "papermill": {
     "duration": 2.171718,
     "end_time": "2023-09-30T14:36:44.516749",
     "exception": false,
     "start_time": "2023-09-30T14:36:42.345031",
     "status": "completed"
    },
    "tags": []
   },
   "outputs": [
    {
     "data": {
      "image/png": "[encoded data removed]",
      "text/plain": [
       "<Figure size 1600x800 with 8 Axes>"
      ]
     },
     "metadata": {},
     "output_type": "display_data"
    }
   ],
   "source": [
    "import seaborn as sns\n",
    "import matplotlib.pyplot as plt\n",
    "\n",
    "# Create subplots with 2 rows and 4 columns\n",
    "fig, axes = plt.subplots(2, 4, figsize=(16, 8))\n",
    "\n",
    "# Define the data columns and colors\n",
    "columns = ['N', 'P', 'K', 'temperature', 'rainfall', 'humidity', 'ph']\n",
    "colors = ['lightgrey', 'lightblue', 'darkblue', 'black', 'grey', 'lightgreen', 'darkgreen']\n",
    "\n",
    "# Loop through the subplots and create the distribution plots\n",
    "for i, col in enumerate(columns):\n",
    "    row = i // 4\n",
    "    col_num = i % 4\n",
    "    \n",
    "    sns.histplot(data[col], color=colors[i], ax=axes[row, col_num])\n",
    "    axes[row, col_num].set_xlabel(f'Ratio of {col}', fontsize=12)\n",
    "    axes[row, col_num].grid()\n",
    "\n",
    "# Adjust the spacing between subplots\n",
    "plt.subplots_adjust(wspace=0.4, hspace=0.4)\n",
    "\n",
    "# Add a title for the entire figure\n",
    "plt.suptitle('Distribution for Agricultural Conditions', fontsize=20)\n",
    "\n",
    "# Show the plot\n",
    "plt.show()\n"
   ]
  },
  {
   "cell_type": "code",
   "execution_count": 46,
   "id": "25a56c34",
   "metadata": {
    "execution": {
     "iopub.execute_input": "2023-09-30T14:36:44.576347Z",
     "iopub.status.busy": "2023-09-30T14:36:44.575842Z",
     "iopub.status.idle": "2023-09-30T14:36:44.594019Z",
     "shell.execute_reply": "2023-09-30T14:36:44.593090Z"
    },
    "papermill": {
     "duration": 0.036505,
     "end_time": "2023-09-30T14:36:44.596194",
     "exception": false,
     "start_time": "2023-09-30T14:36:44.559689",
     "status": "completed"
    },
    "tags": []
   },
   "outputs": [
    {
     "name": "stdout",
     "output_type": "stream",
     "text": [
      "Some Interesting Patterns\n",
      "--------------------------\n",
      "Crops which requires very High Ratio of Nirtogen Content in Soil: ['cotton']\n",
      "Crops which requires very High Ratio of Phosphorous Content in Soil: ['grapes' 'apple']\n",
      "Crops which requires very High Ratio of Potassium Content in Soil: ['grapes' 'apple']\n",
      "Crops which requires very High Rainfall: ['rice' 'papaya' 'coconut']\n",
      "Crops which requires very Low Temperature: ['rice' 'maize' 'chickpea' 'kidneybeans' 'pigeonpeas' 'mothbeans'\n",
      " 'mungbean' 'blackgram' 'lentil' 'pomegranate' 'banana' 'mango' 'grapes'\n",
      " 'watermelon' 'muskmelon' 'apple' 'orange' 'papaya' 'coconut' 'cotton'\n",
      " 'jute' 'coffee']\n",
      "Crops which requires very High Temperature: ['grapes' 'papaya']\n",
      "Crops which requires very Low Humidty: ['rice' 'maize' 'kidneybeans' 'pigeonpeas' 'mothbeans' 'mungbean'\n",
      " 'blackgram' 'lentil' 'pomegranate' 'banana' 'mango' 'grapes' 'watermelon'\n",
      " 'muskmelon' 'apple' 'orange' 'papaya' 'coconut' 'cotton' 'jute' 'coffee']\n",
      "Crops which requires very Low pH: ['mothbeans']\n",
      "Crops which requires very Low pH: ['mothbeans']\n"
     ]
    }
   ],
   "source": [
    "## Lets find out some Intersting Facts\n",
    "print(\"Some Interesting Patterns\")\n",
    "print(\"--------------------------\")\n",
    "print(\"Crops which requires very High Ratio of Nirtogen Content in Soil:\", data[data['N'] > 120]['label'].unique())\n",
    "print(\"Crops which requires very High Ratio of Phosphorous Content in Soil:\", data[data['P'] > 100]['label'].unique())\n",
    "print(\"Crops which requires very High Ratio of Potassium Content in Soil:\", data[data['K'] > 200]['label'].unique())\n",
    "print(\"Crops which requires very High Rainfall:\", data[data['rainfall'] > 200]['label'].unique())\n",
    "print(\"Crops which requires very Low Temperature:\", data[data['temperature'] > 10]['label'].unique())\n",
    "print(\"Crops which requires very High Temperature:\", data[data['temperature'] > 40]['label'].unique())\n",
    "print(\"Crops which requires very Low Humidty:\", data[data['humidity'] > 20]['label'].unique())\n",
    "print(\"Crops which requires very Low pH:\", data[data['ph'] < 4]['label'].unique())\n",
    "print(\"Crops which requires very Low pH:\", data[data['ph'] > 9]['label'].unique())"
   ]
  },
  {
   "cell_type": "markdown",
   "id": "74318780",
   "metadata": {
    "execution": {
     "iopub.execute_input": "2023-09-30T14:07:09.781607Z",
     "iopub.status.busy": "2023-09-30T14:07:09.781242Z",
     "iopub.status.idle": "2023-09-30T14:07:09.786534Z",
     "shell.execute_reply": "2023-09-30T14:07:09.785329Z",
     "shell.execute_reply.started": "2023-09-30T14:07:09.781582Z"
    },
    "papermill": {
     "duration": 0.014201,
     "end_time": "2023-09-30T14:36:44.624863",
     "exception": false,
     "start_time": "2023-09-30T14:36:44.610662",
     "status": "completed"
    },
    "tags": []
   },
   "source": [
    "# Seasonal Crops Recommendations ( Summer, Winter, Rainy)"
   ]
  },
  {
   "cell_type": "code",
   "execution_count": 15,
   "id": "590c3f99",
   "metadata": {
    "execution": {
     "iopub.execute_input": "2023-09-30T14:36:44.655178Z",
     "iopub.status.busy": "2023-09-30T14:36:44.654781Z",
     "iopub.status.idle": "2023-09-30T14:36:44.667598Z",
     "shell.execute_reply": "2023-09-30T14:36:44.665943Z"
    },
    "papermill": {
     "duration": 0.03062,
     "end_time": "2023-09-30T14:36:44.669625",
     "exception": false,
     "start_time": "2023-09-30T14:36:44.639005",
     "status": "completed"
    },
    "tags": []
   },
   "outputs": [
    {
     "name": "stdout",
     "output_type": "stream",
     "text": [
      "Summer Crops\n",
      "['pigeonpeas' 'mothbeans' 'blackgram' 'mango' 'grapes' 'orange' 'papaya']\n",
      "-----------------------------------------\n",
      "Winter Crops\n",
      "['maize' 'pigeonpeas' 'lentil' 'pomegranate' 'grapes' 'orange']\n",
      "-----------------------------------------\n",
      "Rainy Crops\n",
      "['rice' 'papaya' 'coconut']\n"
     ]
    }
   ],
   "source": [
    "### Lets understand which crops can only be Grown in Summer Season, Winter Season and Rainy Season\n",
    "\n",
    "print(\"Summer Crops\")\n",
    "print(data[(data['temperature'] > 30) & (data['humidity'] > 50)]['label'].unique())\n",
    "print(\"-----------------------------------------\")\n",
    "print(\"Winter Crops\")\n",
    "print(data[(data['temperature'] < 20) & (data['humidity'] > 30)]['label'].unique())\n",
    "print(\"-----------------------------------------\")\n",
    "print(\"Rainy Crops\")\n",
    "print(data[(data['rainfall'] > 200) & (data['humidity'] > 30)]['label'].unique())"
   ]
  },
  {
   "cell_type": "markdown",
   "id": "68f2b08c",
   "metadata": {
    "papermill": {
     "duration": 0.013844,
     "end_time": "2023-09-30T14:36:44.698243",
     "exception": false,
     "start_time": "2023-09-30T14:36:44.684399",
     "status": "completed"
    },
    "tags": []
   },
   "source": [
    "# Removing of columns to find some more Insights."
   ]
  },
  {
   "cell_type": "code",
   "execution_count": 16,
   "id": "4ac374cf",
   "metadata": {
    "execution": {
     "iopub.execute_input": "2023-09-30T14:36:44.737856Z",
     "iopub.status.busy": "2023-09-30T14:36:44.736636Z",
     "iopub.status.idle": "2023-09-30T14:36:45.479513Z",
     "shell.execute_reply": "2023-09-30T14:36:45.477952Z"
    },
    "papermill": {
     "duration": 0.76759,
     "end_time": "2023-09-30T14:36:45.481923",
     "exception": false,
     "start_time": "2023-09-30T14:36:44.714333",
     "status": "completed"
    },
    "tags": []
   },
   "outputs": [
    {
     "name": "stdout",
     "output_type": "stream",
     "text": [
      "(2200, 7)\n"
     ]
    }
   ],
   "source": [
    "from sklearn.cluster import KMeans\n",
    "\n",
    "# removing the labels column\n",
    "x = data.drop(['label'], axis=1)\n",
    "\n",
    "# selecting all the values of the data\n",
    "x = x.values\n",
    "\n",
    "# checking the shape\n",
    "print(x.shape)"
   ]
  },
  {
   "cell_type": "markdown",
   "id": "b03d128e",
   "metadata": {
    "papermill": {
     "duration": 0.015677,
     "end_time": "2023-09-30T14:36:45.512959",
     "exception": false,
     "start_time": "2023-09-30T14:36:45.497282",
     "status": "completed"
    },
    "tags": []
   },
   "source": [
    "#  To determine the Optimum Number of Clusters within the Dataset"
   ]
  },
  {
   "cell_type": "code",
   "execution_count": 17,
   "id": "c265695d",
   "metadata": {
    "execution": {
     "iopub.execute_input": "2023-09-30T14:36:45.544500Z",
     "iopub.status.busy": "2023-09-30T14:36:45.544116Z",
     "iopub.status.idle": "2023-09-30T14:36:57.408985Z",
     "shell.execute_reply": "2023-09-30T14:36:57.407704Z"
    },
    "papermill": {
     "duration": 11.883393,
     "end_time": "2023-09-30T14:36:57.411728",
     "exception": false,
     "start_time": "2023-09-30T14:36:45.528335",
     "status": "completed"
    },
    "tags": []
   },
   "outputs": [
    {
     "data": {
      "image/png": "[encoded data removed]",
      "text/plain": [
       "<Figure size 1000x400 with 1 Axes>"
      ]
     },
     "metadata": {},
     "output_type": "display_data"
    }
   ],
   "source": [
    "# Lets determine the Optimum Number of Clusters within the Dataset\n",
    "\n",
    "plt.rcParams['figure.figsize'] = (10, 4)\n",
    "\n",
    "wcss = []\n",
    "for i in range(1, 11):\n",
    "    km = KMeans(n_clusters = i, init = 'k-means++', max_iter = 300, n_init = 10, random_state = 0)\n",
    "    km.fit(x)\n",
    "    wcss.append(km.inertia_)\n",
    "    \n",
    "# Lets plot the results\n",
    "plt.plot(range(1, 11), wcss)\n",
    "plt.title('The Elbow Method', fontsize = 20)\n",
    "plt.xlabel('No. of Clusters')\n",
    "plt.ylabel('wcss')\n",
    "plt.show()"
   ]
  },
  {
   "cell_type": "markdown",
   "id": "3b854fac",
   "metadata": {
    "papermill": {
     "duration": 0.014624,
     "end_time": "2023-09-30T14:36:57.441392",
     "exception": false,
     "start_time": "2023-09-30T14:36:57.426768",
     "status": "completed"
    },
    "tags": []
   },
   "source": [
    "# Implementation of K Means to perform Clustering Analysis."
   ]
  },
  {
   "cell_type": "code",
   "execution_count": 18,
   "id": "ecade87f",
   "metadata": {
    "execution": {
     "iopub.execute_input": "2023-09-30T14:36:57.473954Z",
     "iopub.status.busy": "2023-09-30T14:36:57.473593Z",
     "iopub.status.idle": "2023-09-30T14:36:58.530957Z",
     "shell.execute_reply": "2023-09-30T14:36:58.530022Z"
    },
    "papermill": {
     "duration": 1.076712,
     "end_time": "2023-09-30T14:36:58.533719",
     "exception": false,
     "start_time": "2023-09-30T14:36:57.457007",
     "status": "completed"
    },
    "tags": []
   },
   "outputs": [
    {
     "name": "stdout",
     "output_type": "stream",
     "text": [
      "Lets check the Results After Applying the K Means Clustering Analysis \n",
      "\n",
      "Crops in First cluster: ['grapes' 'apple']\n",
      "----------------------------------------------------------------\n",
      "Crops in Second cluster: ['maize' 'chickpea' 'kidneybeans' 'pigeonpeas' 'mothbeans' 'mungbean'\n",
      " 'blackgram' 'lentil' 'pomegranate' 'mango' 'orange' 'papaya' 'coconut']\n",
      "----------------------------------------------------------------\n",
      "Crops in Third cluster: ['maize' 'banana' 'watermelon' 'muskmelon' 'papaya' 'cotton' 'coffee']\n",
      "----------------------------------------------------------------\n",
      "Crops in Forth cluster: ['rice' 'pigeonpeas' 'papaya' 'coconut' 'jute' 'coffee']\n"
     ]
    }
   ],
   "source": [
    "# Lets implement the K Means algorithm to perform Clustering analysis\n",
    "km =KMeans(n_clusters = 4, init = 'k-means++', max_iter = 300, n_init = 10, random_state = 0)\n",
    "y_means = km.fit_predict(x)\n",
    "# Lets find out the Results\n",
    "a = data['label']\n",
    "y_means = pd.DataFrame(y_means)\n",
    "z = pd.concat([y_means, a], axis = 1)\n",
    "z = z.rename(columns = {0: 'cluster'})\n",
    "\n",
    "# Lets check the Clusters of each Crops\n",
    "print(\"Lets check the Results After Applying the K Means Clustering Analysis \\n\")\n",
    "print(\"Crops in First cluster:\", z[z['cluster'] == 0][ 'label'].unique())\n",
    "print(\"----------------------------------------------------------------\")\n",
    "print(\"Crops in Second cluster:\", z[z['cluster'] == 1][ 'label'].unique())\n",
    "print(\"----------------------------------------------------------------\")\n",
    "print(\"Crops in Third cluster:\", z[z['cluster'] == 2][ 'label'].unique())\n",
    "print(\"----------------------------------------------------------------\")\n",
    "print(\"Crops in Forth cluster:\", z[z['cluster'] == 3][ 'label'].unique())\n",
    "\n"
   ]
  },
  {
   "cell_type": "markdown",
   "id": "90ab2a3d",
   "metadata": {
    "papermill": {
     "duration": 0.01471,
     "end_time": "2023-09-30T14:36:58.564719",
     "exception": false,
     "start_time": "2023-09-30T14:36:58.550009",
     "status": "completed"
    },
    "tags": []
   },
   "source": [
    "# Splitting up of the Dataset for Predictive Modelling"
   ]
  },
  {
   "cell_type": "code",
   "execution_count": 19,
   "id": "2f4984ce",
   "metadata": {
    "execution": {
     "iopub.execute_input": "2023-09-30T14:36:58.597702Z",
     "iopub.status.busy": "2023-09-30T14:36:58.597284Z",
     "iopub.status.idle": "2023-09-30T14:36:58.604711Z",
     "shell.execute_reply": "2023-09-30T14:36:58.603481Z"
    },
    "papermill": {
     "duration": 0.027295,
     "end_time": "2023-09-30T14:36:58.607271",
     "exception": false,
     "start_time": "2023-09-30T14:36:58.579976",
     "status": "completed"
    },
    "tags": []
   },
   "outputs": [
    {
     "name": "stdout",
     "output_type": "stream",
     "text": [
      "Shape of x: (2200, 7)\n",
      "shape of y: (2200,)\n"
     ]
    }
   ],
   "source": [
    "# Lets split the Dataset for Predictive Modelling\n",
    "y = data['label']\n",
    "x = data.drop(['label'], axis = 1)\n",
    "\n",
    "print(\"Shape of x:\", x.shape)\n",
    "print(\"shape of y:\", y.shape)"
   ]
  },
  {
   "cell_type": "markdown",
   "id": "1a669012",
   "metadata": {
    "papermill": {
     "duration": 0.014611,
     "end_time": "2023-09-30T14:36:58.636981",
     "exception": false,
     "start_time": "2023-09-30T14:36:58.622370",
     "status": "completed"
    },
    "tags": []
   },
   "source": [
    "# Creations of the Training and Testing Sets for Validation of Results"
   ]
  },
  {
   "cell_type": "code",
   "execution_count": 20,
   "id": "c21a5a04",
   "metadata": {
    "execution": {
     "iopub.execute_input": "2023-09-30T14:36:58.669599Z",
     "iopub.status.busy": "2023-09-30T14:36:58.669185Z",
     "iopub.status.idle": "2023-09-30T14:36:58.679294Z",
     "shell.execute_reply": "2023-09-30T14:36:58.677644Z"
    },
    "papermill": {
     "duration": 0.029591,
     "end_time": "2023-09-30T14:36:58.681803",
     "exception": false,
     "start_time": "2023-09-30T14:36:58.652212",
     "status": "completed"
    },
    "tags": []
   },
   "outputs": [
    {
     "name": "stdout",
     "output_type": "stream",
     "text": [
      "The Shape of x train: (1760, 7)\n",
      "The Shape of x test: (440, 7)\n",
      "The Shape of y train: (1760,)\n",
      "The Shape of y test: (440, 7)\n"
     ]
    }
   ],
   "source": [
    "# Lets create Training and Testing Sets for Validation of Results\n",
    "from sklearn.model_selection import train_test_split\n",
    "\n",
    "x_train, x_test, y_train, y_test = train_test_split(x, y, test_size = 0.2, random_state = 0)\n",
    "\n",
    "print(\"The Shape of x train:\", x_train.shape)\n",
    "print(\"The Shape of x test:\", x_test.shape)\n",
    "print(\"The Shape of y train:\", y_train.shape)\n",
    "print(\"The Shape of y test:\", x_test.shape)"
   ]
  },
  {
   "cell_type": "markdown",
   "id": "f993d0ed",
   "metadata": {
    "papermill": {
     "duration": 0.015559,
     "end_time": "2023-09-30T14:36:58.715138",
     "exception": false,
     "start_time": "2023-09-30T14:36:58.699579",
     "status": "completed"
    },
    "tags": []
   },
   "source": [
    "# Creation of a Predictive Model"
   ]
  },
  {
   "cell_type": "code",
   "execution_count": 30,
   "id": "67cace63",
   "metadata": {
    "execution": {
     "iopub.execute_input": "2023-09-30T14:36:58.749068Z",
     "iopub.status.busy": "2023-09-30T14:36:58.748436Z",
     "iopub.status.idle": "2023-09-30T14:36:59.043117Z",
     "shell.execute_reply": "2023-09-30T14:36:59.041659Z"
    },
    "papermill": {
     "duration": 0.316559,
     "end_time": "2023-09-30T14:36:59.047290",
     "exception": false,
     "start_time": "2023-09-30T14:36:58.730731",
     "status": "completed"
    },
    "tags": []
   },
   "outputs": [
    {
     "name": "stderr",
     "output_type": "stream",
     "text": [
      "D:\\Anaconda\\Lib\\site-packages\\sklearn\\linear_model\\_logistic.py:460: ConvergenceWarning: lbfgs failed to converge (status=1):\n",
      "STOP: TOTAL NO. of ITERATIONS REACHED LIMIT.\n",
      "\n",
      "Increase the number of iterations (max_iter) or scale the data as shown in:\n",
      "    https://scikit-learn.org/stable/modules/preprocessing.html\n",
      "Please also refer to the documentation for alternative solver options:\n",
      "    https://scikit-learn.org/stable/modules/linear_model.html#logistic-regression\n",
      "  n_iter_i = _check_optimize_result(\n"
     ]
    }
   ],
   "source": [
    "# Lets creat a Predictive Model\n",
    "\n",
    "from sklearn.linear_model import LogisticRegression\n",
    "\n",
    "model = LogisticRegression()\n",
    "model.fit(x_train, y_train)\n",
    "y_pred = model.predict(x_test)\n"
   ]
  },
  {
   "cell_type": "markdown",
   "id": "e6ccb513",
   "metadata": {
    "papermill": {
     "duration": 0.040952,
     "end_time": "2023-09-30T14:36:59.130667",
     "exception": false,
     "start_time": "2023-09-30T14:36:59.089715",
     "status": "completed"
    },
    "tags": []
   },
   "source": [
    " # Evaluation of the Model Performance"
   ]
  },
  {
   "cell_type": "code",
   "execution_count": 22,
   "id": "bcfc6235",
   "metadata": {
    "execution": {
     "iopub.execute_input": "2023-09-30T14:36:59.177518Z",
     "iopub.status.busy": "2023-09-30T14:36:59.177142Z",
     "iopub.status.idle": "2023-09-30T14:37:00.550076Z",
     "shell.execute_reply": "2023-09-30T14:37:00.549292Z"
    },
    "papermill": {
     "duration": 1.391718,
     "end_time": "2023-09-30T14:37:00.552535",
     "exception": false,
     "start_time": "2023-09-30T14:36:59.160817",
     "status": "completed"
    },
    "tags": []
   },
   "outputs": [
    {
     "data": {
      "image/png": "[encoded data removed]",
      "text/plain": [
       "<Figure size 1000x1000 with 2 Axes>"
      ]
     },
     "metadata": {},
     "output_type": "display_data"
    }
   ],
   "source": [
    "# Lets evaluate the Model Performance\n",
    "from sklearn.metrics import confusion_matrix\n",
    "\n",
    "# Lets print the Confusion matrix first\n",
    "plt.rcParams['figure.figsize'] = (10, 10)\n",
    "cm = confusion_matrix(y_test, y_pred)\n",
    "sns.heatmap(cm, annot=True, cmap='Wistia')\n",
    "plt.title('Confusion Matrix for Logistic Regression', fontsize=15)\n",
    "plt.show()\n"
   ]
  },
  {
   "cell_type": "markdown",
   "id": "68dfff88",
   "metadata": {
    "papermill": {
     "duration": 0.016673,
     "end_time": "2023-09-30T14:37:00.585786",
     "exception": false,
     "start_time": "2023-09-30T14:37:00.569113",
     "status": "completed"
    },
    "tags": []
   },
   "source": [
    "# Printing out the Classification Report."
   ]
  },
  {
   "cell_type": "code",
   "execution_count": 23,
   "id": "cfa68092",
   "metadata": {
    "execution": {
     "iopub.execute_input": "2023-09-30T14:37:00.622590Z",
     "iopub.status.busy": "2023-09-30T14:37:00.621449Z",
     "iopub.status.idle": "2023-09-30T14:37:00.645785Z",
     "shell.execute_reply": "2023-09-30T14:37:00.644659Z"
    },
    "papermill": {
     "duration": 0.045068,
     "end_time": "2023-09-30T14:37:00.648213",
     "exception": false,
     "start_time": "2023-09-30T14:37:00.603145",
     "status": "completed"
    },
    "tags": []
   },
   "outputs": [
    {
     "name": "stdout",
     "output_type": "stream",
     "text": [
      "              precision    recall  f1-score   support\n",
      "\n",
      "       apple       1.00      1.00      1.00        18\n",
      "      banana       1.00      1.00      1.00        18\n",
      "   blackgram       0.86      0.82      0.84        22\n",
      "    chickpea       1.00      1.00      1.00        23\n",
      "     coconut       1.00      1.00      1.00        15\n",
      "      coffee       1.00      1.00      1.00        17\n",
      "      cotton       0.89      1.00      0.94        16\n",
      "      grapes       1.00      1.00      1.00        18\n",
      "        jute       0.84      1.00      0.91        21\n",
      " kidneybeans       1.00      1.00      1.00        20\n",
      "      lentil       0.94      0.94      0.94        17\n",
      "       maize       0.94      0.89      0.91        18\n",
      "       mango       1.00      1.00      1.00        21\n",
      "   mothbeans       0.88      0.92      0.90        25\n",
      "    mungbean       1.00      1.00      1.00        17\n",
      "   muskmelon       1.00      1.00      1.00        23\n",
      "      orange       1.00      1.00      1.00        23\n",
      "      papaya       1.00      0.95      0.98        21\n",
      "  pigeonpeas       1.00      1.00      1.00        22\n",
      " pomegranate       1.00      1.00      1.00        23\n",
      "        rice       1.00      0.84      0.91        25\n",
      "  watermelon       1.00      1.00      1.00        17\n",
      "\n",
      "    accuracy                           0.97       440\n",
      "   macro avg       0.97      0.97      0.97       440\n",
      "weighted avg       0.97      0.97      0.97       440\n",
      "\n"
     ]
    }
   ],
   "source": [
    "# Lets print the Classification Repost also\n",
    "from sklearn.metrics import classification_report\n",
    "\n",
    "cr = classification_report(y_test, y_pred)\n",
    "print(cr)"
   ]
  },
  {
   "cell_type": "code",
   "execution_count": 24,
   "id": "73c9975e",
   "metadata": {
    "execution": {
     "iopub.execute_input": "2023-09-30T14:37:00.685438Z",
     "iopub.status.busy": "2023-09-30T14:37:00.684387Z",
     "iopub.status.idle": "2023-09-30T14:37:00.710136Z",
     "shell.execute_reply": "2023-09-30T14:37:00.709014Z"
    },
    "papermill": {
     "duration": 0.047622,
     "end_time": "2023-09-30T14:37:00.712686",
     "exception": false,
     "start_time": "2023-09-30T14:37:00.665064",
     "status": "completed"
    },
    "tags": []
   },
   "outputs": [
    {
     "name": "stdout",
     "output_type": "stream",
     "text": [
      "              precision    recall  f1-score   support\n",
      "\n",
      "       apple       1.00      1.00      1.00        18\n",
      "      banana       1.00      1.00      1.00        18\n",
      "   blackgram       0.86      0.82      0.84        22\n",
      "    chickpea       1.00      1.00      1.00        23\n",
      "     coconut       1.00      1.00      1.00        15\n",
      "      coffee       1.00      1.00      1.00        17\n",
      "      cotton       0.89      1.00      0.94        16\n",
      "      grapes       1.00      1.00      1.00        18\n",
      "        jute       0.84      1.00      0.91        21\n",
      " kidneybeans       1.00      1.00      1.00        20\n",
      "      lentil       0.94      0.94      0.94        17\n",
      "       maize       0.94      0.89      0.91        18\n",
      "       mango       1.00      1.00      1.00        21\n",
      "   mothbeans       0.88      0.92      0.90        25\n",
      "    mungbean       1.00      1.00      1.00        17\n",
      "   muskmelon       1.00      1.00      1.00        23\n",
      "      orange       1.00      1.00      1.00        23\n",
      "      papaya       1.00      0.95      0.98        21\n",
      "  pigeonpeas       1.00      1.00      1.00        22\n",
      " pomegranate       1.00      1.00      1.00        23\n",
      "        rice       1.00      0.84      0.91        25\n",
      "  watermelon       1.00      1.00      1.00        17\n",
      "\n",
      "    accuracy                           0.97       440\n",
      "   macro avg       0.97      0.97      0.97       440\n",
      "weighted avg       0.97      0.97      0.97       440\n",
      "\n"
     ]
    }
   ],
   "source": [
    "from sklearn.metrics import classification_report\n",
    "\n",
    "# Assuming you have defined and populated y_test and y_pred correctly\n",
    "cr = classification_report(y_test, y_pred)\n",
    "print(cr)\n"
   ]
  },
  {
   "cell_type": "markdown",
   "id": "4434336a",
   "metadata": {
    "papermill": {
     "duration": 0.017337,
     "end_time": "2023-09-30T14:37:00.747430",
     "exception": false,
     "start_time": "2023-09-30T14:37:00.730093",
     "status": "completed"
    },
    "tags": []
   },
   "source": [
    "# Inspecting the Head of the Dataset"
   ]
  },
  {
   "cell_type": "code",
   "execution_count": 25,
   "id": "4e52d104",
   "metadata": {
    "execution": {
     "iopub.execute_input": "2023-09-30T14:37:00.782453Z",
     "iopub.status.busy": "2023-09-30T14:37:00.782037Z",
     "iopub.status.idle": "2023-09-30T14:37:00.794482Z",
     "shell.execute_reply": "2023-09-30T14:37:00.793704Z"
    },
    "papermill": {
     "duration": 0.032243,
     "end_time": "2023-09-30T14:37:00.796381",
     "exception": false,
     "start_time": "2023-09-30T14:37:00.764138",
     "status": "completed"
    },
    "tags": []
   },
   "outputs": [
    {
     "data": {
      "text/html": [
       "<div>\n",
       "<style scoped>\n",
       "    .dataframe tbody tr th:only-of-type {\n",
       "        vertical-align: middle;\n",
       "    }\n",
       "\n",
       "    .dataframe tbody tr th {\n",
       "        vertical-align: top;\n",
       "    }\n",
       "\n",
       "    .dataframe thead th {\n",
       "        text-align: right;\n",
       "    }\n",
       "</style>\n",
       "<table border=\"1\" class=\"dataframe\">\n",
       "  <thead>\n",
       "    <tr style=\"text-align: right;\">\n",
       "      <th></th>\n",
       "      <th>N</th>\n",
       "      <th>P</th>\n",
       "      <th>K</th>\n",
       "      <th>temperature</th>\n",
       "      <th>humidity</th>\n",
       "      <th>ph</th>\n",
       "      <th>rainfall</th>\n",
       "      <th>label</th>\n",
       "    </tr>\n",
       "  </thead>\n",
       "  <tbody>\n",
       "    <tr>\n",
       "      <th>0</th>\n",
       "      <td>90</td>\n",
       "      <td>42</td>\n",
       "      <td>43</td>\n",
       "      <td>20.879744</td>\n",
       "      <td>82.002744</td>\n",
       "      <td>6.502985</td>\n",
       "      <td>202.935536</td>\n",
       "      <td>rice</td>\n",
       "    </tr>\n",
       "    <tr>\n",
       "      <th>1</th>\n",
       "      <td>85</td>\n",
       "      <td>58</td>\n",
       "      <td>41</td>\n",
       "      <td>21.770462</td>\n",
       "      <td>80.319644</td>\n",
       "      <td>7.038096</td>\n",
       "      <td>226.655537</td>\n",
       "      <td>rice</td>\n",
       "    </tr>\n",
       "    <tr>\n",
       "      <th>2</th>\n",
       "      <td>60</td>\n",
       "      <td>55</td>\n",
       "      <td>44</td>\n",
       "      <td>23.004459</td>\n",
       "      <td>82.320763</td>\n",
       "      <td>7.840207</td>\n",
       "      <td>263.964248</td>\n",
       "      <td>rice</td>\n",
       "    </tr>\n",
       "    <tr>\n",
       "      <th>3</th>\n",
       "      <td>74</td>\n",
       "      <td>35</td>\n",
       "      <td>40</td>\n",
       "      <td>26.491096</td>\n",
       "      <td>80.158363</td>\n",
       "      <td>6.980401</td>\n",
       "      <td>242.864034</td>\n",
       "      <td>rice</td>\n",
       "    </tr>\n",
       "    <tr>\n",
       "      <th>4</th>\n",
       "      <td>78</td>\n",
       "      <td>42</td>\n",
       "      <td>42</td>\n",
       "      <td>20.130175</td>\n",
       "      <td>81.604873</td>\n",
       "      <td>7.628473</td>\n",
       "      <td>262.717340</td>\n",
       "      <td>rice</td>\n",
       "    </tr>\n",
       "  </tbody>\n",
       "</table>\n",
       "</div>"
      ],
      "text/plain": [
       "    N   P   K  temperature   humidity        ph    rainfall label\n",
       "0  90  42  43    20.879744  82.002744  6.502985  202.935536  rice\n",
       "1  85  58  41    21.770462  80.319644  7.038096  226.655537  rice\n",
       "2  60  55  44    23.004459  82.320763  7.840207  263.964248  rice\n",
       "3  74  35  40    26.491096  80.158363  6.980401  242.864034  rice\n",
       "4  78  42  42    20.130175  81.604873  7.628473  262.717340  rice"
      ]
     },
     "execution_count": 25,
     "metadata": {},
     "output_type": "execute_result"
    }
   ],
   "source": [
    "# Lets check the Head of the Dataset\n",
    "data.head()"
   ]
  },
  {
   "cell_type": "markdown",
   "id": "7fe05711",
   "metadata": {},
   "source": [
    "# PRIDICTION  :"
   ]
  },
  {
   "cell_type": "code",
   "execution_count": 42,
   "id": "1c91be37",
   "metadata": {
    "execution": {
     "iopub.execute_input": "2023-09-30T14:37:00.869576Z",
     "iopub.status.busy": "2023-09-30T14:37:00.868852Z",
     "iopub.status.idle": "2023-09-30T14:37:00.879687Z",
     "shell.execute_reply": "2023-09-30T14:37:00.878187Z"
    },
    "papermill": {
     "duration": 0.033686,
     "end_time": "2023-09-30T14:37:00.881721",
     "exception": false,
     "start_time": "2023-09-30T14:37:00.848035",
     "status": "completed"
    },
    "tags": []
   },
   "outputs": [
    {
     "name": "stdout",
     "output_type": "stream",
     "text": [
      "The Suggested Crop for Given Climatic Condition is : ['papaya']\n"
     ]
    },
    {
     "name": "stderr",
     "output_type": "stream",
     "text": [
      "D:\\Anaconda\\Lib\\site-packages\\sklearn\\base.py:464: UserWarning: X does not have valid feature names, but LogisticRegression was fitted with feature names\n",
      "  warnings.warn(\n"
     ]
    }
   ],
   "source": [
    "prediction = model.predict((np.array([[60,\n",
    "                                      70,\n",
    "                                      80,\n",
    "                                      20,\n",
    "                                      30,\n",
    "                                      9,\n",
    "                                     300]])))\n",
    "print(\"The Suggested Crop for Given Climatic Condition is :\", prediction)"
   ]
  },
  {
   "cell_type": "code",
   "execution_count": null,
   "id": "f82908a0",
   "metadata": {},
   "outputs": [],
   "source": []
  }
 ],
 "metadata": {
  "kernelspec": {
   "display_name": "Python 3 (ipykernel)",
   "language": "python",
   "name": "python3"
  },
  "language_info": {
   "codemirror_mode": {
    "name": "ipython",
    "version": 3
   },
   "file_extension": ".py",
   "mimetype": "text/x-python",
   "name": "python",
   "nbconvert_exporter": "python",
   "pygments_lexer": "ipython3",
   "version": "3.11.4"
  },
  "papermill": {
   "default_parameters": {},
   "duration": 27.244191,
   "end_time": "2023-09-30T14:37:01.692387",
   "environment_variables": {},
   "exception": null,
   "input_path": "__notebook__.ipynb",
   "output_path": "__notebook__.ipynb",
   "parameters": {},
   "start_time": "2023-09-30T14:36:34.448196",
   "version": "2.4.0"
  },
  "widgets": {
   "application/vnd.jupyter.widget-state+json": {
    "state": {
     "012b6307d9da4d30b8f218534942d8f8": {
      "model_module": "@jupyter-widgets/controls",
      "model_module_version": "1.5.0",
      "model_name": "VBoxModel",
      "state": {
       "_dom_classes": [
        "widget-interact"
       ],
       "_model_module": "@jupyter-widgets/controls",
       "_model_module_version": "1.5.0",
       "_model_name": "VBoxModel",
       "_view_count": null,
       "_view_module": "@jupyter-widgets/controls",
       "_view_module_version": "1.5.0",
       "_view_name": "VBoxView",
       "box_style": "",
       "children": [
        "IPY_MODEL_03ce7a3ea46045b4878d5520a9c696f8",
        "IPY_MODEL_f179d14006d94c869414c8add112d5fd"
       ],
       "layout": "IPY_MODEL_9b15e156b9da465cb988cdd2d0214ff2"
      }
     },
     "03ce7a3ea46045b4878d5520a9c696f8": {
      "model_module": "@jupyter-widgets/controls",
      "model_module_version": "1.5.0",
      "model_name": "DropdownModel",
      "state": {
       "_dom_classes": [],
       "_model_module": "@jupyter-widgets/controls",
       "_model_module_version": "1.5.0",
       "_model_name": "DropdownModel",
       "_options_labels": [
        "N",
        "P",
        "K",
        "temperature",
        "ph",
        "humidity",
        "rainfall"
       ],
       "_view_count": null,
       "_view_module": "@jupyter-widgets/controls",
       "_view_module_version": "1.5.0",
       "_view_name": "DropdownView",
       "description": "conditions",
       "description_tooltip": null,
       "disabled": false,
       "index": 0,
       "layout": "IPY_MODEL_b1c500268d87498f850ccceb9d7a573a",
       "style": "IPY_MODEL_a97b36163dce40f2ba65b41b124bfff2"
      }
     },
     "0c1b02c5799e4fde8df58f26d9d3aaba": {
      "model_module": "@jupyter-widgets/output",
      "model_module_version": "1.0.0",
      "model_name": "OutputModel",
      "state": {
       "_dom_classes": [],
       "_model_module": "@jupyter-widgets/output",
       "_model_module_version": "1.0.0",
       "_model_name": "OutputModel",
       "_view_count": null,
       "_view_module": "@jupyter-widgets/output",
       "_view_module_version": "1.0.0",
       "_view_name": "OutputView",
       "layout": "IPY_MODEL_6849d149dd794056b00fbe20c648fee8",
       "msg_id": "",
       "outputs": [
        {
         "name": "stdout",
         "output_type": "stream",
         "text": "---------------------------------------------\nStatistics for Nitrogen\nMinimum Nitrogen required: 60\nAverage Nitrogen required: 79.89\nMaximum Nitrogen required: 99\n---------------------------------------------\nStatistics for Phosphorus\nMinimum Phosphorus required: 35\nAverage Phosphorus required: 47.58\nMaximum Phosphorus required: 60\n---------------------------------------------\nStatistics for Potassium\nMinimum Potassium required: 35\nAverage Potassium required: 39.87\nMaximum Potassium required: 45\n---------------------------------------------\nStatistics for Temperature\nMinimum Temperature required: 20.05\nAverage Temperature required: 23.69\nMaximum Temperature required: 26.93\n---------------------------------------------\nStatistics for Humidity\nMinimum Humidity required: 80.12\nAverage Humidity required: 82.27\nMaximum Humidity required: 84.97\n---------------------------------------------\nStatistics for pH\nMinimum pH required: 5.01\nAverage pH required: 6.43\nMaximum pH required: 7.87\n---------------------------------------------\nStatistics for Rainfall\nMinimum Rainfall required: 182.56\nAverage Rainfall required: 236.18\nMaximum Rainfall required: 298.56\n"
        }
       ]
      }
     },
     "1315358141574e1487732eaf359ec8a5": {
      "model_module": "@jupyter-widgets/controls",
      "model_module_version": "1.5.0",
      "model_name": "DropdownModel",
      "state": {
       "_dom_classes": [],
       "_model_module": "@jupyter-widgets/controls",
       "_model_module_version": "1.5.0",
       "_model_name": "DropdownModel",
       "_options_labels": [
        "rice",
        "maize",
        "jute",
        "cotton",
        "coconut",
        "papaya",
        "orange",
        "apple",
        "muskmelon",
        "watermelon",
        "grapes",
        "mango",
        "banana",
        "pomegranate",
        "lentil",
        "blackgram",
        "mungbean",
        "mothbeans",
        "pigeonpeas",
        "kidneybeans",
        "chickpea",
        "coffee"
       ],
       "_view_count": null,
       "_view_module": "@jupyter-widgets/controls",
       "_view_module_version": "1.5.0",
       "_view_name": "DropdownView",
       "description": "crops",
       "description_tooltip": null,
       "disabled": false,
       "index": 0,
       "layout": "IPY_MODEL_e9d7f561005640d8a668671488db8ba7",
       "style": "IPY_MODEL_1b8a1d1eece742a39954c548b7e9b0c6"
      }
     },
     "1b8a1d1eece742a39954c548b7e9b0c6": {
      "model_module": "@jupyter-widgets/controls",
      "model_module_version": "1.5.0",
      "model_name": "DescriptionStyleModel",
      "state": {
       "_model_module": "@jupyter-widgets/controls",
       "_model_module_version": "1.5.0",
       "_model_name": "DescriptionStyleModel",
       "_view_count": null,
       "_view_module": "@jupyter-widgets/base",
       "_view_module_version": "1.2.0",
       "_view_name": "StyleView",
       "description_width": ""
      }
     },
     "3c4e699c84884896a579ca6f9abe9bf7": {
      "model_module": "@jupyter-widgets/base",
      "model_module_version": "1.2.0",
      "model_name": "LayoutModel",
      "state": {
       "_model_module": "@jupyter-widgets/base",
       "_model_module_version": "1.2.0",
       "_model_name": "LayoutModel",
       "_view_count": null,
       "_view_module": "@jupyter-widgets/base",
       "_view_module_version": "1.2.0",
       "_view_name": "LayoutView",
       "align_content": null,
       "align_items": null,
       "align_self": null,
       "border": null,
       "bottom": null,
       "display": null,
       "flex": null,
       "flex_flow": null,
       "grid_area": null,
       "grid_auto_columns": null,
       "grid_auto_flow": null,
       "grid_auto_rows": null,
       "grid_column": null,
       "grid_gap": null,
       "grid_row": null,
       "grid_template_areas": null,
       "grid_template_columns": null,
       "grid_template_rows": null,
       "height": null,
       "justify_content": null,
       "justify_items": null,
       "left": null,
       "margin": null,
       "max_height": null,
       "max_width": null,
       "min_height": null,
       "min_width": null,
       "object_fit": null,
       "object_position": null,
       "order": null,
       "overflow": null,
       "overflow_x": null,
       "overflow_y": null,
       "padding": null,
       "right": null,
       "top": null,
       "visibility": null,
       "width": null
      }
     },
     "509caafa3a2c4bde85280c79802e386f": {
      "model_module": "@jupyter-widgets/controls",
      "model_module_version": "1.5.0",
      "model_name": "DescriptionStyleModel",
      "state": {
       "_model_module": "@jupyter-widgets/controls",
       "_model_module_version": "1.5.0",
       "_model_name": "DescriptionStyleModel",
       "_view_count": null,
       "_view_module": "@jupyter-widgets/base",
       "_view_module_version": "1.2.0",
       "_view_name": "StyleView",
       "description_width": ""
      }
     },
     "6849d149dd794056b00fbe20c648fee8": {
      "model_module": "@jupyter-widgets/base",
      "model_module_version": "1.2.0",
      "model_name": "LayoutModel",
      "state": {
       "_model_module": "@jupyter-widgets/base",
       "_model_module_version": "1.2.0",
       "_model_name": "LayoutModel",
       "_view_count": null,
       "_view_module": "@jupyter-widgets/base",
       "_view_module_version": "1.2.0",
       "_view_name": "LayoutView",
       "align_content": null,
       "align_items": null,
       "align_self": null,
       "border": null,
       "bottom": null,
       "display": null,
       "flex": null,
       "flex_flow": null,
       "grid_area": null,
       "grid_auto_columns": null,
       "grid_auto_flow": null,
       "grid_auto_rows": null,
       "grid_column": null,
       "grid_gap": null,
       "grid_row": null,
       "grid_template_areas": null,
       "grid_template_columns": null,
       "grid_template_rows": null,
       "height": null,
       "justify_content": null,
       "justify_items": null,
       "left": null,
       "margin": null,
       "max_height": null,
       "max_width": null,
       "min_height": null,
       "min_width": null,
       "object_fit": null,
       "object_position": null,
       "order": null,
       "overflow": null,
       "overflow_x": null,
       "overflow_y": null,
       "padding": null,
       "right": null,
       "top": null,
       "visibility": null,
       "width": null
      }
     },
     "7c84192d1ad44f5199cc8e8cbc5d9db7": {
      "model_module": "@jupyter-widgets/base",
      "model_module_version": "1.2.0",
      "model_name": "LayoutModel",
      "state": {
       "_model_module": "@jupyter-widgets/base",
       "_model_module_version": "1.2.0",
       "_model_name": "LayoutModel",
       "_view_count": null,
       "_view_module": "@jupyter-widgets/base",
       "_view_module_version": "1.2.0",
       "_view_name": "LayoutView",
       "align_content": null,
       "align_items": null,
       "align_self": null,
       "border": null,
       "bottom": null,
       "display": null,
       "flex": null,
       "flex_flow": null,
       "grid_area": null,
       "grid_auto_columns": null,
       "grid_auto_flow": null,
       "grid_auto_rows": null,
       "grid_column": null,
       "grid_gap": null,
       "grid_row": null,
       "grid_template_areas": null,
       "grid_template_columns": null,
       "grid_template_rows": null,
       "height": null,
       "justify_content": null,
       "justify_items": null,
       "left": null,
       "margin": null,
       "max_height": null,
       "max_width": null,
       "min_height": null,
       "min_width": null,
       "object_fit": null,
       "object_position": null,
       "order": null,
       "overflow": null,
       "overflow_x": null,
       "overflow_y": null,
       "padding": null,
       "right": null,
       "top": null,
       "visibility": null,
       "width": null
      }
     },
     "844523277d5c489c9b64f27e3cdc6b28": {
      "model_module": "@jupyter-widgets/controls",
      "model_module_version": "1.5.0",
      "model_name": "VBoxModel",
      "state": {
       "_dom_classes": [
        "widget-interact"
       ],
       "_model_module": "@jupyter-widgets/controls",
       "_model_module_version": "1.5.0",
       "_model_name": "VBoxModel",
       "_view_count": null,
       "_view_module": "@jupyter-widgets/controls",
       "_view_module_version": "1.5.0",
       "_view_name": "VBoxView",
       "box_style": "",
       "children": [
        "IPY_MODEL_983809e763224c87b0d7e322a57e8cc7",
        "IPY_MODEL_c249bf128ad64a4fbdb698f546b0f1b2"
       ],
       "layout": "IPY_MODEL_7c84192d1ad44f5199cc8e8cbc5d9db7"
      }
     },
     "8518c8e7b1d04e18a9a39e76ad6bce00": {
      "model_module": "@jupyter-widgets/base",
      "model_module_version": "1.2.0",
      "model_name": "LayoutModel",
      "state": {
       "_model_module": "@jupyter-widgets/base",
       "_model_module_version": "1.2.0",
       "_model_name": "LayoutModel",
       "_view_count": null,
       "_view_module": "@jupyter-widgets/base",
       "_view_module_version": "1.2.0",
       "_view_name": "LayoutView",
       "align_content": null,
       "align_items": null,
       "align_self": null,
       "border": null,
       "bottom": null,
       "display": null,
       "flex": null,
       "flex_flow": null,
       "grid_area": null,
       "grid_auto_columns": null,
       "grid_auto_flow": null,
       "grid_auto_rows": null,
       "grid_column": null,
       "grid_gap": null,
       "grid_row": null,
       "grid_template_areas": null,
       "grid_template_columns": null,
       "grid_template_rows": null,
       "height": null,
       "justify_content": null,
       "justify_items": null,
       "left": null,
       "margin": null,
       "max_height": null,
       "max_width": null,
       "min_height": null,
       "min_width": null,
       "object_fit": null,
       "object_position": null,
       "order": null,
       "overflow": null,
       "overflow_x": null,
       "overflow_y": null,
       "padding": null,
       "right": null,
       "top": null,
       "visibility": null,
       "width": null
      }
     },
     "8936275e14194ababf426465e4b716f6": {
      "model_module": "@jupyter-widgets/base",
      "model_module_version": "1.2.0",
      "model_name": "LayoutModel",
      "state": {
       "_model_module": "@jupyter-widgets/base",
       "_model_module_version": "1.2.0",
       "_model_name": "LayoutModel",
       "_view_count": null,
       "_view_module": "@jupyter-widgets/base",
       "_view_module_version": "1.2.0",
       "_view_name": "LayoutView",
       "align_content": null,
       "align_items": null,
       "align_self": null,
       "border": null,
       "bottom": null,
       "display": null,
       "flex": null,
       "flex_flow": null,
       "grid_area": null,
       "grid_auto_columns": null,
       "grid_auto_flow": null,
       "grid_auto_rows": null,
       "grid_column": null,
       "grid_gap": null,
       "grid_row": null,
       "grid_template_areas": null,
       "grid_template_columns": null,
       "grid_template_rows": null,
       "height": null,
       "justify_content": null,
       "justify_items": null,
       "left": null,
       "margin": null,
       "max_height": null,
       "max_width": null,
       "min_height": null,
       "min_width": null,
       "object_fit": null,
       "object_position": null,
       "order": null,
       "overflow": null,
       "overflow_x": null,
       "overflow_y": null,
       "padding": null,
       "right": null,
       "top": null,
       "visibility": null,
       "width": null
      }
     },
     "983809e763224c87b0d7e322a57e8cc7": {
      "model_module": "@jupyter-widgets/controls",
      "model_module_version": "1.5.0",
      "model_name": "DropdownModel",
      "state": {
       "_dom_classes": [],
       "_model_module": "@jupyter-widgets/controls",
       "_model_module_version": "1.5.0",
       "_model_name": "DropdownModel",
       "_options_labels": [
        "N",
        "P",
        "K",
        "temperature",
        "ph",
        "humidity",
        "rainfall"
       ],
       "_view_count": null,
       "_view_module": "@jupyter-widgets/controls",
       "_view_module_version": "1.5.0",
       "_view_name": "DropdownView",
       "description": "conditions",
       "description_tooltip": null,
       "disabled": false,
       "index": 0,
       "layout": "IPY_MODEL_dd7498969a584b86b6ced310037dfd4f",
       "style": "IPY_MODEL_509caafa3a2c4bde85280c79802e386f"
      }
     },
     "9b15e156b9da465cb988cdd2d0214ff2": {
      "model_module": "@jupyter-widgets/base",
      "model_module_version": "1.2.0",
      "model_name": "LayoutModel",
      "state": {
       "_model_module": "@jupyter-widgets/base",
       "_model_module_version": "1.2.0",
       "_model_name": "LayoutModel",
       "_view_count": null,
       "_view_module": "@jupyter-widgets/base",
       "_view_module_version": "1.2.0",
       "_view_name": "LayoutView",
       "align_content": null,
       "align_items": null,
       "align_self": null,
       "border": null,
       "bottom": null,
       "display": null,
       "flex": null,
       "flex_flow": null,
       "grid_area": null,
       "grid_auto_columns": null,
       "grid_auto_flow": null,
       "grid_auto_rows": null,
       "grid_column": null,
       "grid_gap": null,
       "grid_row": null,
       "grid_template_areas": null,
       "grid_template_columns": null,
       "grid_template_rows": null,
       "height": null,
       "justify_content": null,
       "justify_items": null,
       "left": null,
       "margin": null,
       "max_height": null,
       "max_width": null,
       "min_height": null,
       "min_width": null,
       "object_fit": null,
       "object_position": null,
       "order": null,
       "overflow": null,
       "overflow_x": null,
       "overflow_y": null,
       "padding": null,
       "right": null,
       "top": null,
       "visibility": null,
       "width": null
      }
     },
     "a97b36163dce40f2ba65b41b124bfff2": {
      "model_module": "@jupyter-widgets/controls",
      "model_module_version": "1.5.0",
      "model_name": "DescriptionStyleModel",
      "state": {
       "_model_module": "@jupyter-widgets/controls",
       "_model_module_version": "1.5.0",
       "_model_name": "DescriptionStyleModel",
       "_view_count": null,
       "_view_module": "@jupyter-widgets/base",
       "_view_module_version": "1.2.0",
       "_view_name": "StyleView",
       "description_width": ""
      }
     },
     "b1c500268d87498f850ccceb9d7a573a": {
      "model_module": "@jupyter-widgets/base",
      "model_module_version": "1.2.0",
      "model_name": "LayoutModel",
      "state": {
       "_model_module": "@jupyter-widgets/base",
       "_model_module_version": "1.2.0",
       "_model_name": "LayoutModel",
       "_view_count": null,
       "_view_module": "@jupyter-widgets/base",
       "_view_module_version": "1.2.0",
       "_view_name": "LayoutView",
       "align_content": null,
       "align_items": null,
       "align_self": null,
       "border": null,
       "bottom": null,
       "display": null,
       "flex": null,
       "flex_flow": null,
       "grid_area": null,
       "grid_auto_columns": null,
       "grid_auto_flow": null,
       "grid_auto_rows": null,
       "grid_column": null,
       "grid_gap": null,
       "grid_row": null,
       "grid_template_areas": null,
       "grid_template_columns": null,
       "grid_template_rows": null,
       "height": null,
       "justify_content": null,
       "justify_items": null,
       "left": null,
       "margin": null,
       "max_height": null,
       "max_width": null,
       "min_height": null,
       "min_width": null,
       "object_fit": null,
       "object_position": null,
       "order": null,
       "overflow": null,
       "overflow_x": null,
       "overflow_y": null,
       "padding": null,
       "right": null,
       "top": null,
       "visibility": null,
       "width": null
      }
     },
     "c249bf128ad64a4fbdb698f546b0f1b2": {
      "model_module": "@jupyter-widgets/output",
      "model_module_version": "1.0.0",
      "model_name": "OutputModel",
      "state": {
       "_dom_classes": [],
       "_model_module": "@jupyter-widgets/output",
       "_model_module_version": "1.0.0",
       "_model_name": "OutputModel",
       "_view_count": null,
       "_view_module": "@jupyter-widgets/output",
       "_view_module_version": "1.0.0",
       "_view_name": "OutputView",
       "layout": "IPY_MODEL_8936275e14194ababf426465e4b716f6",
       "msg_id": "",
       "outputs": [
        {
         "name": "stdout",
         "output_type": "stream",
         "text": "Crops which require greater than average N \n\n['rice' 'maize' 'chickpea' 'blackgram' 'banana' 'watermelon' 'muskmelon'\n 'papaya' 'cotton' 'jute' 'coffee']\n-------------------------------------\nCrops which require less than average N \n\n['chickpea' 'kidneybeans' 'pigeonpeas' 'mothbeans' 'mungbean' 'blackgram'\n 'lentil' 'pomegranate' 'mango' 'grapes' 'apple' 'orange' 'papaya'\n 'coconut']\n"
        }
       ]
      }
     },
     "dd7498969a584b86b6ced310037dfd4f": {
      "model_module": "@jupyter-widgets/base",
      "model_module_version": "1.2.0",
      "model_name": "LayoutModel",
      "state": {
       "_model_module": "@jupyter-widgets/base",
       "_model_module_version": "1.2.0",
       "_model_name": "LayoutModel",
       "_view_count": null,
       "_view_module": "@jupyter-widgets/base",
       "_view_module_version": "1.2.0",
       "_view_name": "LayoutView",
       "align_content": null,
       "align_items": null,
       "align_self": null,
       "border": null,
       "bottom": null,
       "display": null,
       "flex": null,
       "flex_flow": null,
       "grid_area": null,
       "grid_auto_columns": null,
       "grid_auto_flow": null,
       "grid_auto_rows": null,
       "grid_column": null,
       "grid_gap": null,
       "grid_row": null,
       "grid_template_areas": null,
       "grid_template_columns": null,
       "grid_template_rows": null,
       "height": null,
       "justify_content": null,
       "justify_items": null,
       "left": null,
       "margin": null,
       "max_height": null,
       "max_width": null,
       "min_height": null,
       "min_width": null,
       "object_fit": null,
       "object_position": null,
       "order": null,
       "overflow": null,
       "overflow_x": null,
       "overflow_y": null,
       "padding": null,
       "right": null,
       "top": null,
       "visibility": null,
       "width": null
      }
     },
     "e53d9ee551f14a5181e001ce97a36c6b": {
      "model_module": "@jupyter-widgets/controls",
      "model_module_version": "1.5.0",
      "model_name": "VBoxModel",
      "state": {
       "_dom_classes": [
        "widget-interact"
       ],
       "_model_module": "@jupyter-widgets/controls",
       "_model_module_version": "1.5.0",
       "_model_name": "VBoxModel",
       "_view_count": null,
       "_view_module": "@jupyter-widgets/controls",
       "_view_module_version": "1.5.0",
       "_view_name": "VBoxView",
       "box_style": "",
       "children": [
        "IPY_MODEL_1315358141574e1487732eaf359ec8a5",
        "IPY_MODEL_0c1b02c5799e4fde8df58f26d9d3aaba"
       ],
       "layout": "IPY_MODEL_3c4e699c84884896a579ca6f9abe9bf7"
      }
     },
     "e9d7f561005640d8a668671488db8ba7": {
      "model_module": "@jupyter-widgets/base",
      "model_module_version": "1.2.0",
      "model_name": "LayoutModel",
      "state": {
       "_model_module": "@jupyter-widgets/base",
       "_model_module_version": "1.2.0",
       "_model_name": "LayoutModel",
       "_view_count": null,
       "_view_module": "@jupyter-widgets/base",
       "_view_module_version": "1.2.0",
       "_view_name": "LayoutView",
       "align_content": null,
       "align_items": null,
       "align_self": null,
       "border": null,
       "bottom": null,
       "display": null,
       "flex": null,
       "flex_flow": null,
       "grid_area": null,
       "grid_auto_columns": null,
       "grid_auto_flow": null,
       "grid_auto_rows": null,
       "grid_column": null,
       "grid_gap": null,
       "grid_row": null,
       "grid_template_areas": null,
       "grid_template_columns": null,
       "grid_template_rows": null,
       "height": null,
       "justify_content": null,
       "justify_items": null,
       "left": null,
       "margin": null,
       "max_height": null,
       "max_width": null,
       "min_height": null,
       "min_width": null,
       "object_fit": null,
       "object_position": null,
       "order": null,
       "overflow": null,
       "overflow_x": null,
       "overflow_y": null,
       "padding": null,
       "right": null,
       "top": null,
       "visibility": null,
       "width": null
      }
     },
     "f179d14006d94c869414c8add112d5fd": {
      "model_module": "@jupyter-widgets/output",
      "model_module_version": "1.0.0",
      "model_name": "OutputModel",
      "state": {
       "_dom_classes": [],
       "_model_module": "@jupyter-widgets/output",
       "_model_module_version": "1.0.0",
       "_model_name": "OutputModel",
       "_view_count": null,
       "_view_module": "@jupyter-widgets/output",
       "_view_module_version": "1.0.0",
       "_view_name": "OutputView",
       "layout": "IPY_MODEL_8518c8e7b1d04e18a9a39e76ad6bce00",
       "msg_id": "",
       "outputs": [
        {
         "name": "stdout",
         "output_type": "stream",
         "text": "Average Value for N is 50.55\n----------------------------------------------\nRice : 79.89\nBlack Grams : nan\nBanana : 100.23\nJute : 78.40\nCoconut : 21.98\nApple : 20.80\nPapaya : 49.88\nMuskmelon : 100.32\nGrapes : 23.18\nWatermelon : 99.42\nKidney Beans : nan\nMung Beans : nan\nOranges : nan\nChick Peas : nan\nLentils : nan\nCotton : 117.77\nMaize : 77.76\nMoth Beans : nan\nPigeon Peas : nan\nMango : 20.07\nPomegranate : 18.87\nCoffee : 101.20\n"
        }
       ]
      }
     }
    },
    "version_major": 2,
    "version_minor": 0
   }
  }
 },
 "nbformat": 4,
 "nbformat_minor": 5
}
